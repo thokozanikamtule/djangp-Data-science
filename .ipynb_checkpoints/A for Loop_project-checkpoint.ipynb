{
 "cells": [
  {
   "cell_type": "markdown",
   "id": "62c10696",
   "metadata": {},
   "source": [
    "## Introduction to a for loop in python"
   ]
  },
  {
   "cell_type": "code",
   "execution_count": 4,
   "id": "e15945bd",
   "metadata": {},
   "outputs": [
    {
     "name": "stdout",
     "output_type": "stream",
     "text": [
      "a\n",
      "b\n",
      "c\n",
      "d\n",
      "e\n",
      "f\n"
     ]
    }
   ],
   "source": [
    "# Introduction to lists in python using a for loop\n",
    "# Show to the user using a for loop\n",
    "Ourlist =[\"a\",\"b\",\"c\",\"d\",\"e\",\"f\"]\n",
    "\n",
    "for x in Ourlist:\n",
    "    print(x)\n",
    "    \n",
    "    \n",
    "       "
   ]
  },
  {
   "cell_type": "markdown",
   "id": "34151abb",
   "metadata": {},
   "source": [
    "## Introduction to a for  loop in python"
   ]
  },
  {
   "cell_type": "code",
   "execution_count": 2,
   "id": "79884f21",
   "metadata": {},
   "outputs": [
    {
     "name": "stdout",
     "output_type": "stream",
     "text": [
      "Orange,Are you my fovourite eater?\n",
      "prepared by Thokozani Kamtule\n",
      "Pineapple,Are you my fovourite eater?\n",
      "prepared by Thokozani Kamtule\n",
      "Guava,Are you my fovourite eater?\n",
      "prepared by Thokozani Kamtule\n",
      "Mango,Are you my fovourite eater?\n",
      "prepared by Thokozani Kamtule\n"
     ]
    }
   ],
   "source": [
    "# Introduction to loop in pyython\n",
    "# How to display 4 statements using a for loop\n",
    "# Display 4 statements to every fruit using a for loop\n",
    "#How to define a for loop\n",
    "names = [\"Orange\",\"Pineapple\",\"Guava\",\"Mango\"]\n",
    "for name in names:\n",
    "    print(name + \",Are you my fovourite eater?\")\n",
    "    print(\"prepared by_Thokozani Kamtule\")"
   ]
  }
 ],
 "metadata": {
  "kernelspec": {
   "display_name": "Python 3 (ipykernel)",
   "language": "python",
   "name": "python3"
  },
  "language_info": {
   "codemirror_mode": {
    "name": "ipython",
    "version": 3
   },
   "file_extension": ".py",
   "mimetype": "text/x-python",
   "name": "python",
   "nbconvert_exporter": "python",
   "pygments_lexer": "ipython3",
   "version": "3.11.4"
  }
 },
 "nbformat": 4,
 "nbformat_minor": 5
}
