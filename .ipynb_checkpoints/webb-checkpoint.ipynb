{
 "cells": [
  {
   "cell_type": "code",
   "execution_count": null,
   "id": "eba02779",
   "metadata": {},
   "outputs": [],
   "source": [
    "from bs4 import BeautifulSoup\n",
    "import pandas as pd\n",
    "import requests"
   ]
  },
  {
   "cell_type": "code",
   "execution_count": null,
   "id": "6f0b5837",
   "metadata": {},
   "outputs": [],
   "source": [
    "url = 'https://www.imdb.com/chart/top/'"
   ]
  },
  {
   "cell_type": "code",
   "execution_count": null,
   "id": "5bacfa1d",
   "metadata": {},
   "outputs": [],
   "source": [
    "#HEADERS for requests\n",
    "HEADERS = ({'User-Agent':'Mozilla/5.0 (Windows NT 10.0; Win64; x64) AppleWebKit/537.36 (KHTML, like Gecko) Chrome/118.0.0.0 Safari/537.36\n",
    "', 'Accept-Language': 'en-US, en ;q=0.5'})"
   ]
  },
  {
   "cell_type": "code",
   "execution_count": null,
   "id": "ee100468",
   "metadata": {},
   "outputs": [],
   "source": [
    "# Ask the requests library to get the url data\n",
    "page = requests.get(url,headers=headers)\n",
    "    \n",
    "# Use the bs4 library to read the data\n",
    "bs = BeautifulSoup(page.content, 'html.parser')\n",
    "    \n",
    "# Show the user the data you are scraping from the amazon website\n",
    "print(bs.prettify().encode(\"utf-8\"))\n",
    "    "
   ]
  }
 ],
 "metadata": {
  "kernelspec": {
   "display_name": "Python 3 (ipykernel)",
   "language": "python",
   "name": "python3"
  },
  "language_info": {
   "codemirror_mode": {
    "name": "ipython",
    "version": 3
   },
   "file_extension": ".py",
   "mimetype": "text/x-python",
   "name": "python",
   "nbconvert_exporter": "python",
   "pygments_lexer": "ipython3",
   "version": "3.11.5"
  }
 },
 "nbformat": 4,
 "nbformat_minor": 5
}
