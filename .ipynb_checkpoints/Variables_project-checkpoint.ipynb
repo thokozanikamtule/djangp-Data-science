{
 "cells": [
  {
   "cell_type": "markdown",
   "id": "8b75f645",
   "metadata": {},
   "source": [
    "## Introduction to variables in python\n"
   ]
  },
  {
   "cell_type": "code",
   "execution_count": null,
   "id": "3854f553",
   "metadata": {},
   "outputs": [],
   "source": [
    "# Creat your fisrt addition program\n",
    "# Declare and assign variable names\n",
    "num1 = 45\n",
    "num2 = 25\n",
    "# Declare another variable for your answer\n",
    "num3 = num1 + num2\n",
    "#How to show the user,Use print function\n",
    "print(num3)\n",
    "#For better results let's format print function\n",
    "print(f\"Addition {num1}+{num2}={num3}\")"
   ]
  }
 ],
 "metadata": {
  "kernelspec": {
   "display_name": "Python 3 (ipykernel)",
   "language": "python",
   "name": "python3"
  },
  "language_info": {
   "codemirror_mode": {
    "name": "ipython",
    "version": 3
   },
   "file_extension": ".py",
   "mimetype": "text/x-python",
   "name": "python",
   "nbconvert_exporter": "python",
   "pygments_lexer": "ipython3",
   "version": "3.11.4"
  }
 },
 "nbformat": 4,
 "nbformat_minor": 5
}
