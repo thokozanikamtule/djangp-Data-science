{
 "cells": [
  {
   "cell_type": "code",
   "execution_count": 1,
   "id": "f110568a",
   "metadata": {},
   "outputs": [
    {
     "name": "stdout",
     "output_type": "stream",
     "text": [
      "Html\n",
      "Css\n",
      "C\n",
      "C++\n",
      "Python\n"
     ]
    }
   ],
   "source": [
    "# Create a for loop showing lists of programming languages\n",
    "languages = [\"Html\", \"Css\", \"C\", \"C++\", \"Python\"]\n",
    "for language in languages:\n",
    "    print(language)"
   ]
  },
  {
   "cell_type": "code",
   "execution_count": 3,
   "id": "b98c634e",
   "metadata": {},
   "outputs": [
    {
     "name": "stdout",
     "output_type": "stream",
     "text": [
      "This is HTML programming language.\n",
      "This is CSS programming language.\n",
      "This is C programming language.\n",
      "This is C++ programming language.\n",
      "This is PYTHON programming language.\n"
     ]
    }
   ],
   "source": [
    "# How to add a message and uppercase in languages using for loop\n",
    "languages = [\"Html\", \"Css\", \"C\", \"C++\", \"Python\"]\n",
    "for language in languages:\n",
    "    print(\"This is \"  + language.upper() + \" programming language.\")\n"
   ]
  },
  {
   "cell_type": "code",
   "execution_count": null,
   "id": "325a18fb",
   "metadata": {},
   "outputs": [],
   "source": [
    "#How to use if statements in for loop\n",
    "for language in languages:\n",
    "    if language == \"Python\":\n",
    "        print(\"I love \" +  language.title() + \"programming language\")\n",
    "    else:\n",
    "        print(\"This is \"  + language.upper() + \" programming language.\")"
   ]
  }
 ],
 "metadata": {
  "kernelspec": {
   "display_name": "Python 3 (ipykernel)",
   "language": "python",
   "name": "python3"
  },
  "language_info": {
   "codemirror_mode": {
    "name": "ipython",
    "version": 3
   },
   "file_extension": ".py",
   "mimetype": "text/x-python",
   "name": "python",
   "nbconvert_exporter": "python",
   "pygments_lexer": "ipython3",
   "version": "3.11.4"
  }
 },
 "nbformat": 4,
 "nbformat_minor": 5
}
