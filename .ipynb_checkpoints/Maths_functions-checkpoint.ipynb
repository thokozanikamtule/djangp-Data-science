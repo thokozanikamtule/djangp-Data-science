{
 "cells": [
  {
   "cell_type": "code",
   "execution_count": null,
   "id": "79edbec1",
   "metadata": {},
   "outputs": [
    {
     "name": "stdout",
     "output_type": "stream",
     "text": [
      "\n",
      "1. add\n",
      "2. subtract\n",
      "Enter Choice:1\n",
      "Enter your fisrt number:200\n",
      "Enter your second number:300\n",
      "500\n",
      "\n",
      "1. add\n",
      "2. subtract\n",
      "Enter Choice:2\n",
      "Enter your fisrt number:60\n",
      "Enter your second number:15\n",
      "45\n",
      "\n",
      "1. add\n",
      "2. subtract\n",
      "Enter Choice:4\n",
      "Enter your fisrt number:10\n",
      "Enter your second number:23\n",
      "\tInvalid Input ! please enter correct input 1 or 2\n",
      "\n",
      "1. add\n",
      "2. subtract\n"
     ]
    }
   ],
   "source": [
    "# Creating math functions with loop,conditional statement\n",
    "#Create add and subtract functions\n",
    "def add(x,y):\n",
    "    print(x + y)\n",
    "    \n",
    "def subtract(x,y):\n",
    "    print(x - y)\n",
    "# Create a while loop\n",
    "while True:\n",
    "    print(\"\\n1. add\")\n",
    "    print(\"2. subtract\")\n",
    "# Create variable for choice 1 and 2\n",
    "    choice = int(input(\"Enter Choice:\"))\n",
    "    fisrtnumber = int(input(\"Enter your fisrt number:\"))\n",
    "    secondnumber = int(input(\"Enter your second number:\"))\n",
    "# Create conditional statement\n",
    "    if choice == 1:\n",
    "        add( fisrtnumber,   secondnumber  )\n",
    "    elif choice == 2:\n",
    "        subtract(fisrtnumber,   secondnumber)\n",
    "    else:\n",
    "        print(\"\\tInvalid Input ! please enter correct input 1 or 2\")\n",
    "    "
   ]
  },
  {
   "cell_type": "code",
   "execution_count": null,
   "id": "9193b8a6",
   "metadata": {},
   "outputs": [],
   "source": []
  }
 ],
 "metadata": {
  "kernelspec": {
   "display_name": "Python 3 (ipykernel)",
   "language": "python",
   "name": "python3"
  },
  "language_info": {
   "codemirror_mode": {
    "name": "ipython",
    "version": 3
   },
   "file_extension": ".py",
   "mimetype": "text/x-python",
   "name": "python",
   "nbconvert_exporter": "python",
   "pygments_lexer": "ipython3",
   "version": "3.11.4"
  }
 },
 "nbformat": 4,
 "nbformat_minor": 5
}
