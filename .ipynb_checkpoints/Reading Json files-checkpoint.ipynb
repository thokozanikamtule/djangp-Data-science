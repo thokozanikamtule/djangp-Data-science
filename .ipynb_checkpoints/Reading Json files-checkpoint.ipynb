{
 "cells": [
  {
   "cell_type": "code",
   "execution_count": null,
   "id": "67a37b86",
   "metadata": {},
   "outputs": [],
   "source": [
    "# How to Json files with pandas\n",
    "# import libraries\n",
    "import pandas as pd\n",
    "df = pd.read_json(r\"C:\\Users\\user\\Desktop\\Thokozani\\Thokozani\\panda  data\\json_sample.json\")\n",
    "df"
   ]
  }
 ],
 "metadata": {
  "kernelspec": {
   "display_name": "Python 3 (ipykernel)",
   "language": "python",
   "name": "python3"
  },
  "language_info": {
   "codemirror_mode": {
    "name": "ipython",
    "version": 3
   },
   "file_extension": ".py",
   "mimetype": "text/x-python",
   "name": "python",
   "nbconvert_exporter": "python",
   "pygments_lexer": "ipython3",
   "version": "3.11.4"
  }
 },
 "nbformat": 4,
 "nbformat_minor": 5
}
