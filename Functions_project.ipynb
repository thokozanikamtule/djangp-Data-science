{
 "cells": [
  {
   "cell_type": "markdown",
   "id": "041e45d1",
   "metadata": {},
   "source": [
    "##  Introduction to functions in python"
   ]
  },
  {
   "cell_type": "code",
   "execution_count": 17,
   "id": "6738fadb",
   "metadata": {},
   "outputs": [
    {
     "name": "stdout",
     "output_type": "stream",
     "text": [
      "240\n",
      "Multiplication 10*4*6\n"
     ]
    }
   ],
   "source": [
    "# Introduction to functions in python\n",
    "# My 1st project using functions in python\n",
    "def multiply():\n",
    "    X=10\n",
    "    Y=4\n",
    "    K=6\n",
    "    print(X*Y*K)\n",
    "    \n",
    "    print(f\"Multiplication {X}*{Y}*{K}\")\n",
    "multiply()\n",
    "\n",
    "        "
   ]
  },
  {
   "cell_type": "code",
   "execution_count": null,
   "id": "4d34d0fe",
   "metadata": {},
   "outputs": [],
   "source": []
  },
  {
   "cell_type": "markdown",
   "id": "a6edcdd3",
   "metadata": {},
   "source": [
    "##  Introduction to functions in python"
   ]
  },
  {
   "cell_type": "code",
   "execution_count": 1,
   "id": "ae809679",
   "metadata": {},
   "outputs": [
    {
     "name": "stdout",
     "output_type": "stream",
     "text": [
      "Hi,my name is Thokozani Kamtule\n",
      "I am a Programming student\n",
      "I like playing with codes in django\n",
      "Prepared by_Thokozani Kamtule\n"
     ]
    }
   ],
   "source": [
    "# Introduction to functions in python\n",
    "# My 1st project using functions in python\n",
    "def about_me(name,profession,hobby):\n",
    "    print(\"Hi,my name is\",name)\n",
    "    print(\"I am a\",profession)\n",
    "    print(\"I like\",hobby)\n",
    "    print(\"Prepared by_Thokozani Kamtule\")\n",
    "    \n",
    "about_me(\"Thokozani Kamtule\",\"Programming student\",\"playing with codes in django\")\n",
    "   "
   ]
  }
 ],
 "metadata": {
  "kernelspec": {
   "display_name": "Python 3 (ipykernel)",
   "language": "python",
   "name": "python3"
  },
  "language_info": {
   "codemirror_mode": {
    "name": "ipython",
    "version": 3
   },
   "file_extension": ".py",
   "mimetype": "text/x-python",
   "name": "python",
   "nbconvert_exporter": "python",
   "pygments_lexer": "ipython3",
   "version": "3.11.4"
  }
 },
 "nbformat": 4,
 "nbformat_minor": 5
}
