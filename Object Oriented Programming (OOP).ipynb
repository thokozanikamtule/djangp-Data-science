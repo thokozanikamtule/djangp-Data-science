{
 "cells": [
  {
   "cell_type": "code",
   "execution_count": 1,
   "id": "13c0f295",
   "metadata": {},
   "outputs": [
    {
     "name": "stdout",
     "output_type": "stream",
     "text": [
      "Jack is now sitting\n",
      "Jack just rolled\n"
     ]
    }
   ],
   "source": [
    "#create an object\n",
    "#Creating class called dog\n",
    "class dog():\n",
    "    def __init__(self, name, age):\n",
    "        self.name = name\n",
    "        self.age = age\n",
    "#Add behaviour to the class\n",
    "    def sit (self):\n",
    "        print(self.name + \" is now sitting\")\n",
    "    def roll (self):\n",
    "        print(self.name + \" just rolled\")\n",
    "# Create an  object instance\n",
    "dog1 = dog (\"Jack\", 5)\n",
    "# Call behaviour functions\n",
    "dog1.sit()\n",
    "# Call another behaviour\n",
    "\n",
    "dog1.roll()"
   ]
  },
  {
   "cell_type": "code",
   "execution_count": 2,
   "id": "1673a1a4",
   "metadata": {},
   "outputs": [
    {
     "name": "stdout",
     "output_type": "stream",
     "text": [
      "playing 'Rodgers' by Piksy\n",
      "playing 'Rodgers' by Piksy\n",
      "playing 'Rodgers' by Piksy\n"
     ]
    }
   ],
   "source": [
    "#Creating class called Music\n",
    "class Music():\n",
    "    def __init__(self, title, artist):\n",
    "        self.title = title\n",
    "        self.artist = artist\n",
    "#Add behaviour to the class\n",
    "    def play(self):\n",
    "        print(f\"playing '{self.title}' by {self.artist}\")\n",
    "    def pause (self):\n",
    "        print(f\"playing '{self.title}' by {self.artist}\")\n",
    "    def stop (self):\n",
    "        print(f\"playing '{self.title}' by {self.artist}\")\n",
    "\n",
    "# Create an  object instance of Music class \n",
    "My_song = Music (\"Rodgers\", \"Piksy\")\n",
    "# Call behaviour function of Music class\n",
    "My_song.play()\n",
    "My_song.pause()\n",
    "My_song.stop()"
   ]
  },
  {
   "cell_type": "code",
   "execution_count": null,
   "id": "eaadbc1d",
   "metadata": {},
   "outputs": [],
   "source": []
  }
 ],
 "metadata": {
  "kernelspec": {
   "display_name": "Python 3 (ipykernel)",
   "language": "python",
   "name": "python3"
  },
  "language_info": {
   "codemirror_mode": {
    "name": "ipython",
    "version": 3
   },
   "file_extension": ".py",
   "mimetype": "text/x-python",
   "name": "python",
   "nbconvert_exporter": "python",
   "pygments_lexer": "ipython3",
   "version": "3.11.4"
  }
 },
 "nbformat": 4,
 "nbformat_minor": 5
}
